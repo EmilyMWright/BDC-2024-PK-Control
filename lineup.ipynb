{
 "cells": [
  {
   "cell_type": "code",
   "execution_count": 1,
   "id": "424ce28f-e38e-4c01-92a0-8f2cc9152765",
   "metadata": {},
   "outputs": [],
   "source": [
    "import pandas as pd\n",
    "import numpy as np\n",
    "import matplotlib.pyplot as plt\n",
    "import seaborn as sns"
   ]
  },
  {
   "cell_type": "code",
   "execution_count": 2,
   "id": "ddd64886-9165-4015-a5e7-18f43e9fe52f",
   "metadata": {},
   "outputs": [],
   "source": [
    "yr = '2024'\n",
    "df = pd.read_csv('data/BDC_' + yr + '_Data_Cleaned.csv', index_col=0)"
   ]
  },
  {
   "cell_type": "code",
   "execution_count": 3,
   "id": "ead3e117-0bea-4ee7-b84d-43464f4298ed",
   "metadata": {},
   "outputs": [],
   "source": [
    "stats = pd.read_csv('data/BDC_' + yr + '_Player_Stats.csv', index_col=1)"
   ]
  },
  {
   "cell_type": "code",
   "execution_count": 4,
   "id": "1846c36b-044a-4aa5-820a-d82a32dc8b73",
   "metadata": {},
   "outputs": [],
   "source": [
    "df['Player Position'] = df['Player'].apply(lambda name : stats.loc[name.upper()]['POS.'])\n",
    "df['Offensive Power'] = df['Player'].apply(\n",
    "    lambda name : stats.loc[name.upper()]['PTS'] / stats.loc[name.upper()]['GP']\n",
    ")"
   ]
  },
  {
   "cell_type": "code",
   "execution_count": 5,
   "id": "e1f83475-6cf7-4372-a969-8e006b304890",
   "metadata": {},
   "outputs": [],
   "source": [
    "pk = df.loc[df['Team Status'] == 'PK'].copy()\n",
    "pp = df.loc[df['Team Status'] == 'PP'].copy()"
   ]
  },
  {
   "cell_type": "code",
   "execution_count": 50,
   "id": "17576667-b9dd-49e7-a786-0e209fd3d365",
   "metadata": {},
   "outputs": [],
   "source": [
    "fcount = pk.loc[pk['Player Position'] == 'F'].groupby('Penalty ID')['Player'].nunique()"
   ]
  },
  {
   "cell_type": "code",
   "execution_count": 51,
   "id": "a053f76c-f8c4-46e1-9e6d-3ee2468a1446",
   "metadata": {},
   "outputs": [],
   "source": [
    "dcount = pk.loc[pk['Player Position'] == 'D'].groupby('Penalty ID')['Player'].nunique()"
   ]
  },
  {
   "cell_type": "code",
   "execution_count": 56,
   "id": "7a3e51e1-8172-4ac0-b73d-0135dceaba1a",
   "metadata": {},
   "outputs": [],
   "source": [
    "pf = (fcount / (fcount + dcount)).rename('% Forwards')\n",
    "pf.to_csv('data/BDC_' + yr + '_Lineup.csv')"
   ]
  }
 ],
 "metadata": {
  "kernelspec": {
   "display_name": "Python 3 (ipykernel)",
   "language": "python",
   "name": "python3"
  },
  "language_info": {
   "codemirror_mode": {
    "name": "ipython",
    "version": 3
   },
   "file_extension": ".py",
   "mimetype": "text/x-python",
   "name": "python",
   "nbconvert_exporter": "python",
   "pygments_lexer": "ipython3",
   "version": "3.9.9"
  }
 },
 "nbformat": 4,
 "nbformat_minor": 5
}

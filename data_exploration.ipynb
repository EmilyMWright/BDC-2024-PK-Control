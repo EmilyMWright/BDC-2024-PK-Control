{
 "cells": [
  {
   "cell_type": "markdown",
   "id": "1a59bf55-ac19-47b0-ac78-a7290a90c21a",
   "metadata": {},
   "source": [
    "# Data Exploration"
   ]
  },
  {
   "cell_type": "markdown",
   "id": "6e805cf4-693b-49ec-b34f-a09e7f563265",
   "metadata": {},
   "source": [
    "## Imports"
   ]
  },
  {
   "cell_type": "code",
   "execution_count": 1,
   "id": "6d3417df-59e5-4f4d-b4f5-fceeb22caf27",
   "metadata": {},
   "outputs": [],
   "source": [
    "import pandas as pd\n",
    "import numpy as np\n",
    "import matplotlib.pyplot as plt\n",
    "import seaborn as sns"
   ]
  },
  {
   "cell_type": "code",
   "execution_count": 2,
   "id": "3ff5f5c8-b18c-4934-90c7-d2891941223a",
   "metadata": {},
   "outputs": [],
   "source": [
    "plt.rcParams['figure.dpi'] = 200\n",
    "plt.rcParams['figure.facecolor'] = 'white'"
   ]
  },
  {
   "cell_type": "markdown",
   "id": "b70274a3-4155-4581-89f4-28db6a9cdd70",
   "metadata": {},
   "source": [
    "## Load data"
   ]
  },
  {
   "cell_type": "code",
   "execution_count": 3,
   "id": "58004090-b80b-4d5c-852d-cf0076b16ef6",
   "metadata": {},
   "outputs": [],
   "source": [
    "raw_csv = 'https://raw.githubusercontent.com/bigdatacup/Big-Data-Cup-2024/main/BDC_2024_Womens_Data.csv'\n",
    "df = pd.read_csv(raw_csv)"
   ]
  },
  {
   "cell_type": "markdown",
   "id": "16b0858b-1c95-424a-8680-f8b433977cb6",
   "metadata": {},
   "source": [
    "## Add useful columns"
   ]
  },
  {
   "cell_type": "code",
   "execution_count": 7,
   "id": "99ad60dc-d60a-4ea4-a0f5-96f566e7990f",
   "metadata": {},
   "outputs": [],
   "source": [
    "def get_status(row):\n",
    "    '''Determine whether the team making a play is \n",
    "        Even Strength (ES)\n",
    "        Power Play (PP)\n",
    "        Penalty Kill (PK)\n",
    "    '''\n",
    "    if (\n",
    "        (((row['Home Team'] == row['Team']) &\n",
    "         (row['Away Team Skaters'] < 6) &\n",
    "         (row['Home Team Skaters'] < row['Away Team Skaters'])) | \n",
    "        ((row['Away Team'] == row['Team']) &\n",
    "         (row['Home Team Skaters'] < 6) &\n",
    "         (row['Home Team Skaters'] > row['Away Team Skaters'])))\n",
    "    ):\n",
    "        return 'PK'\n",
    "    elif (\n",
    "        (((row['Home Team'] == row['Team']) &\n",
    "         (row['Home Team Skaters'] < 6) &\n",
    "         (row['Home Team Skaters'] > row['Away Team Skaters'])) | \n",
    "        ((row['Away Team'] == row['Team']) &\n",
    "         (row['Away Team Skaters'] < 6) &\n",
    "         (row['Home Team Skaters'] < row['Away Team Skaters'])))\n",
    "    ):\n",
    "        return 'PP'\n",
    "    else:\n",
    "        return 'ES'"
   ]
  },
  {
   "cell_type": "code",
   "execution_count": 8,
   "id": "73759612-5443-4211-93cb-ba8029a57aac",
   "metadata": {},
   "outputs": [],
   "source": [
    "# add column with ES, PK, or PP for team making play\n",
    "df['Team Status'] = df.apply(lambda row : get_status(row), axis=1)"
   ]
  },
  {
   "cell_type": "code",
   "execution_count": 9,
   "id": "601f6474-02a1-49be-82bf-f299a0b9e678",
   "metadata": {},
   "outputs": [
    {
     "name": "stdout",
     "output_type": "stream",
     "text": [
      "There were 29 distinct penalty kills.\n"
     ]
    }
   ],
   "source": [
    "# add column giving an ID to each penalty (or sequence of penalties)\n",
    "# avoid off-setting penalties\n",
    "df['Penalty ID'] = (\n",
    "    (df['Event'] == 'Penalty Taken') & \n",
    "    (df['Team Status'] == 'ES') & \n",
    "    (df.shift(1)['Event'] != 'Penalty Taken') &\n",
    "    (df.shift(-1)['Event'] != 'Penalty Taken')\n",
    ").cumsum()\n",
    "df.loc[df['Team Status'] == 'ES', 'Penalty ID'] = np.nan\n",
    "max_id = df['Penalty ID'].max()\n",
    "print(f\"There were {int(max_id)} distinct penalty kills.\")"
   ]
  },
  {
   "cell_type": "code",
   "execution_count": 10,
   "id": "2b2dbcb5-75cd-47f5-85a8-7877db1bdbde",
   "metadata": {},
   "outputs": [],
   "source": [
    "def get_time(clock):\n",
    "    '''Turn clock time into seconds elapsed'''\n",
    "    t = clock.split(':')\n",
    "    return 1200 - (int(t[0]) * 60 + int(t[1]))"
   ]
  },
  {
   "cell_type": "code",
   "execution_count": 11,
   "id": "07c87c26-2177-41b2-8e29-6dfe64feee9f",
   "metadata": {},
   "outputs": [],
   "source": [
    "# add column with time elapsed at play\n",
    "df['Time'] = df['Clock'].apply(get_time)"
   ]
  },
  {
   "cell_type": "code",
   "execution_count": 12,
   "id": "342d751c-a0ec-48f3-9d99-3dad58992d46",
   "metadata": {},
   "outputs": [],
   "source": [
    "# add columns with flag whether team gained or maintained possession on play\n",
    "df['Pos Gained'] = (\n",
    "    (df['Date'].shift(1) != df['Date']) | \n",
    "    (df['Period'].shift(1) != df['Period']) | \n",
    "    (df['Team'].shift(1) != df['Team']) |\n",
    "    (df['Event'] == 'Faceoff Win')\n",
    ")\n",
    "df['Pos Retained'] = (\n",
    "    (df['Date'].shift(-1) == df['Date']) & \n",
    "    (df['Period'].shift(-1) == df['Period']) & \n",
    "    (df['Team'].shift(-1) == df['Team'])\n",
    ")"
   ]
  },
  {
   "cell_type": "code",
   "execution_count": 13,
   "id": "65cf5e4d-854c-4ad2-98e8-66e252f44ddc",
   "metadata": {},
   "outputs": [
    {
     "name": "stdout",
     "output_type": "stream",
     "text": [
      "The average possession sequence was 4 plays long and the longest was 27.\n"
     ]
    }
   ],
   "source": [
    "# label uninterrupted play sequences \n",
    "# i.e. no play stoppage and no change in possession\n",
    "df['Sequence ID'] = df['Pos Gained'].cumsum()\n",
    "avg_len = df.groupby('Sequence ID').size().mean().round()\n",
    "max_len = df.groupby('Sequence ID').size().max()\n",
    "print(f\"The average possession sequence was {avg_len:.0f} plays long and the longest was {max_len}.\")"
   ]
  },
  {
   "cell_type": "code",
   "execution_count": 14,
   "id": "04604c5f-c316-4bbf-bf26-a9050c168048",
   "metadata": {},
   "outputs": [
    {
     "name": "stdout",
     "output_type": "stream",
     "text": [
      "The average possession sequence lasted 5.11 seconds and the longest lasted 59 seconds.\n"
     ]
    }
   ],
   "source": [
    "# add columns with possession time up to and after play\n",
    "start_time = df.groupby('Sequence ID')['Time'].min().rename('Start Time')\n",
    "df = pd.merge(df, start_time, how='outer', on='Sequence ID')\n",
    "df['Past Possession Time'] = df['Time'] - df['Start Time']\n",
    "df.drop('Start Time', axis=1, inplace=True)\n",
    "\n",
    "pos_time = df.groupby('Sequence ID')['Past Possession Time'].max().rename('Possession Time')\n",
    "df = pd.merge(df, pos_time, how='outer', on='Sequence ID')\n",
    "\n",
    "avg_t = df.groupby('Sequence ID')['Possession Time'].max().mean()\n",
    "max_t = df.groupby('Sequence ID')['Possession Time'].max().max()\n",
    "print(f\"The average possession sequence lasted {avg_t:.2f} seconds and the longest lasted {max_t} seconds.\")"
   ]
  },
  {
   "cell_type": "code",
   "execution_count": 15,
   "id": "e7004571-fc80-41ad-908b-97ebe0a2243c",
   "metadata": {},
   "outputs": [],
   "source": [
    "df.to_csv('data/BDC_2024_Data_Cleaned.csv')"
   ]
  }
 ],
 "metadata": {
  "kernelspec": {
   "display_name": "Python 3 (ipykernel)",
   "language": "python",
   "name": "python3"
  },
  "language_info": {
   "codemirror_mode": {
    "name": "ipython",
    "version": 3
   },
   "file_extension": ".py",
   "mimetype": "text/x-python",
   "name": "python",
   "nbconvert_exporter": "python",
   "pygments_lexer": "ipython3",
   "version": "3.9.9"
  }
 },
 "nbformat": 4,
 "nbformat_minor": 5
}

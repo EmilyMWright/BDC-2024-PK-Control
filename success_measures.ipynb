{
 "cells": [
  {
   "cell_type": "markdown",
   "id": "3bbc9962-a76c-4cd3-9486-b704e6f6e0b8",
   "metadata": {},
   "source": [
    "# Success measures and combinaiton per penalty kill"
   ]
  },
  {
   "cell_type": "markdown",
   "id": "2d37cb3e-3ae2-4b6a-816b-d9072211ac74",
   "metadata": {},
   "source": [
    "## Imports"
   ]
  },
  {
   "cell_type": "code",
   "execution_count": 1,
   "id": "e5cc63b3-a857-441f-838b-b5cbed79d32c",
   "metadata": {},
   "outputs": [],
   "source": [
    "import pandas as pd\n",
    "import numpy as np\n",
    "import matplotlib.pyplot as plt\n",
    "import seaborn as sns"
   ]
  },
  {
   "cell_type": "code",
   "execution_count": 2,
   "id": "1e891360-c651-4e75-a20f-b8555804d532",
   "metadata": {},
   "outputs": [],
   "source": [
    "plt.rcParams['figure.dpi'] = 200\n",
    "plt.rcParams['figure.facecolor'] = 'white'"
   ]
  },
  {
   "cell_type": "markdown",
   "id": "4d09ca1e-0d5a-4473-b116-f3fb74cace39",
   "metadata": {},
   "source": [
    "## Load data"
   ]
  },
  {
   "cell_type": "code",
   "execution_count": 3,
   "id": "f2b88032-a744-4ac2-b0d4-613f7df33d3f",
   "metadata": {},
   "outputs": [],
   "source": [
    "yr = '2024'"
   ]
  },
  {
   "cell_type": "code",
   "execution_count": 4,
   "id": "c9bb2f8c-4691-4c24-854e-b39f358bb6e6",
   "metadata": {},
   "outputs": [],
   "source": [
    "df = pd.read_csv('data/BDC_' + yr + '_Data_Cleaned.csv', index_col=0)\n",
    "entries = pd.read_csv('data/BDC_' + yr + '_Zone_Entries.csv', index_col=0)\n",
    "df['Plays of Interest'] = pd.read_csv('data/BDC_' + yr + '_Plays_of_Interest.csv', index_col=0)"
   ]
  },
  {
   "cell_type": "code",
   "execution_count": 5,
   "id": "1c4cd4b3-a712-40e2-9b35-9d686666ea37",
   "metadata": {},
   "outputs": [],
   "source": [
    "pk = df.loc[df['Team Status'] == 'PK'].copy()\n",
    "pp = df.loc[df['Team Status'] == 'PP'].copy()\n",
    "p = df.loc[(df['Team Status'] == 'PK') | (df['Team Status'] == 'PP')]"
   ]
  },
  {
   "cell_type": "code",
   "execution_count": 6,
   "id": "920a7488-b885-4648-b901-236146efe285",
   "metadata": {},
   "outputs": [],
   "source": [
    "num_pens = max(pk['Penalty ID'].unique())"
   ]
  },
  {
   "cell_type": "code",
   "execution_count": 7,
   "id": "11911315-8b26-4fd8-b9c2-a3912b857836",
   "metadata": {},
   "outputs": [],
   "source": [
    "pk_grp = pk.groupby('Penalty ID')\n",
    "pk_df = (\n",
    "    pk_grp['Plays of Interest']\n",
    "    .value_counts(dropna=False, sort=False)\n",
    "    .unstack(fill_value=0)\n",
    "    .reset_index()\n",
    "    .rename_axis([None], axis=1)\n",
    ")\n",
    "pp_grp = pp.groupby('Penalty ID')\n",
    "pp_df = (\n",
    "    pp_grp['Plays of Interest']\n",
    "    .value_counts(dropna=False, sort=False)\n",
    "    .unstack(fill_value=0)\n",
    "    .reset_index()\n",
    "    .rename_axis([None], axis=1)\n",
    ")"
   ]
  },
  {
   "cell_type": "code",
   "execution_count": 8,
   "id": "3fa36731-4547-43e5-8c34-4cb02ecf92c5",
   "metadata": {},
   "outputs": [],
   "source": [
    "plays = [\n",
    "    'Controlled exit',\n",
    "    'Neutral zone pass', \n",
    "    'Controlled entry',\n",
    "    'Cycle back',\n",
    "    'Dump out',\n",
    "    'Dump',\n",
    "    'Dump in',\n",
    "    'Dump back',\n",
    "    'Failed controlled exit', \n",
    "    'Failed neutral zone pass',\n",
    "    'Failed controlled entry', \n",
    "    'Failed cycle back', \n",
    "    'Failed dump out', \n",
    "    'Failed dump',\n",
    "    'Failed dump in', \n",
    "    'Failed dump back'\n",
    "]\n",
    "for play in plays:\n",
    "    if not play in pk_df.columns:\n",
    "        pk_df[play] = np.zeros(pk_df.shape[0])\n",
    "    if not play in pp_df.columns:\n",
    "        pp_df[play] = np.zeros(pp_df.shape[0])"
   ]
  },
  {
   "cell_type": "code",
   "execution_count": 9,
   "id": "ace274a6-92f6-4a25-a649-4655133c6a6d",
   "metadata": {},
   "outputs": [],
   "source": [
    "p_df = pd.merge(\n",
    "    pk_df, \n",
    "    pp_df, \n",
    "    suffixes=[' F', ' A'], \n",
    "    how='outer', \n",
    "    on='Penalty ID'\n",
    ").sort_values(\n",
    "    'Penalty ID', \n",
    "    ignore_index=True\n",
    ").drop(\n",
    "    ['nan F', 'nan A'],\n",
    "    axis=1\n",
    ").fillna(0)"
   ]
  },
  {
   "cell_type": "code",
   "execution_count": 10,
   "id": "6213dfdd-2378-419f-9123-4837fb1654f7",
   "metadata": {},
   "outputs": [],
   "source": [
    "# shot attempts for and against per PK\n",
    "shots_for = pk.loc[(pk['Event'] == 'Shot') | (pk['Event'] == 'Goal')].groupby('Penalty ID').size()\n",
    "shots_for.name = 'Corsi'\n",
    "shots_against = pp.loc[(pp['Event'] == 'Shot') | (pp['Event'] == 'Goal')].groupby('Penalty ID').size()\n",
    "shots_against.name = 'Corsi Against'\n",
    "p_df = pd.merge(p_df, shots_for, how='left', on='Penalty ID')\n",
    "p_df = pd.merge(p_df, shots_against, how='left', on='Penalty ID')\n",
    "\n",
    "# shots for and against not blocked per PK\n",
    "shots_for_nb = pk.loc[\n",
    "    ((pk['Event'] == 'Shot') & (pk['Detail 2'] != 'blocked')) | \n",
    "    (pk['Event'] == 'Goal')\n",
    "].groupby('Penalty ID').size().reindex(np.arange(1, num_pens + 1), fill_value=0)\n",
    "shots_against_nb = pp.loc[\n",
    "    ((pp['Event'] == 'Shot') & (pp['Detail 2'] != 'blocked')) | \n",
    "    (pp['Event'] == 'Goal')\n",
    "].groupby('Penalty ID').size().reindex(np.arange(1, num_pens + 1), fill_value=0)\n",
    "\n",
    "# Fenwick score\n",
    "fen = shots_against_nb - shots_for_nb\n",
    "fen.name = 'Fenwick Against'\n",
    "p_df = pd.merge(p_df, fen, how='left', on='Penalty ID')"
   ]
  },
  {
   "cell_type": "code",
   "execution_count": 11,
   "id": "8bfc8018-d1ed-4209-81aa-5f24a253e9cd",
   "metadata": {},
   "outputs": [],
   "source": [
    "# possession\n",
    "g1 = pk.groupby(['Penalty ID', 'Sequence ID'])\n",
    "posf = g1['Possession Time'].max().groupby(level=0).sum()\n",
    "posf = posf.reindex(np.arange(1, num_pens + 1), fill_value=0)\n",
    "\n",
    "g2 = pp.groupby(['Penalty ID', 'Sequence ID'])\n",
    "posa = g2['Possession Time'].max().groupby(level=0).sum()\n",
    "posa = posa.reindex(np.arange(1, num_pens + 1), fill_value=0)\n",
    "\n",
    "ppos = 100 * posf / (posf + posa)\n",
    "ppos.name = 'Possession (%)'\n",
    "p_df = pd.merge(p_df, ppos, how='left', on='Penalty ID').fillna(0)"
   ]
  },
  {
   "cell_type": "code",
   "execution_count": 12,
   "id": "d6059109-f04d-40a4-8c10-8207973d1807",
   "metadata": {},
   "outputs": [],
   "source": [
    "# time in zone\n",
    "in_d_zone = (\n",
    "    ((df['Team Status'] == 'PK') & (df['X Coordinate'] < 75)) | \n",
    "    ((df['Team Status'] == 'PP') & (df['X Coordinate'] > 125))\n",
    ")\n",
    "d_zone_entr = (in_d_zone.shift(1) == False) & (in_d_zone == True)\n",
    "d_zone_ext = ((in_d_zone.shift(-1).fillna(True) == False) & (in_d_zone == True))\n",
    "time_entr = df.loc[d_zone_entr, 'Time']\n",
    "time_ext = df.loc[d_zone_ext, 'Time']\n",
    "zone_ts = time_ext.values - time_entr.values\n",
    "\n",
    "df['Time in D Zone'] = [0] * df.shape[0]\n",
    "df.loc[d_zone_entr, 'Time in D Zone'] = zone_ts\n",
    "pk_zone_ts = df.groupby('Penalty ID')['Time in D Zone'].sum().rename('Time in D Zone')\n",
    "p_df = pd.merge(p_df, pk_zone_ts, how='left', on='Penalty ID').fillna(0)"
   ]
  },
  {
   "cell_type": "code",
   "execution_count": 13,
   "id": "43fe382e-0ced-4bbe-a469-0bbf2b2d0d5e",
   "metadata": {},
   "outputs": [],
   "source": [
    "# time in zone\n",
    "in_o_zone = (\n",
    "    ((df['Team Status'] == 'PK') & (df['X Coordinate'] > 125)) | \n",
    "    ((df['Team Status'] == 'PP') & (df['X Coordinate'] < 75))\n",
    ")\n",
    "o_zone_entr = (in_o_zone.shift(1) == False) & (in_o_zone == True)\n",
    "o_zone_ext = ((in_o_zone.shift(-1).fillna(True) == False) & (in_o_zone == True))\n",
    "time_entr = df.loc[o_zone_entr, 'Time']\n",
    "time_ext = df.loc[o_zone_ext, 'Time']\n",
    "zone_ts = time_ext.values - time_entr.values\n",
    "\n",
    "df['Time in O Zone'] = [0] * df.shape[0]\n",
    "df.loc[o_zone_entr, 'Time in O Zone'] = zone_ts\n",
    "pk_zone_ts = df.groupby('Penalty ID')['Time in O Zone'].sum().rename('Time in O Zone')\n",
    "p_df = pd.merge(p_df, pk_zone_ts, how='left', on='Penalty ID').fillna(0)"
   ]
  },
  {
   "cell_type": "code",
   "execution_count": 14,
   "id": "23411fd3-d51d-4c43-a389-a27ea4245834",
   "metadata": {},
   "outputs": [],
   "source": [
    "p_df.to_csv('data/BDC_' + yr + '_Penalty_Kill_Statistics.csv')"
   ]
  },
  {
   "cell_type": "markdown",
   "id": "ff78415f-5e93-4872-9cf7-f85b7f6d8f74",
   "metadata": {},
   "source": [
    "## Plot Sequences"
   ]
  },
  {
   "cell_type": "code",
   "execution_count": 15,
   "id": "2dffa9da-7b6c-482c-9601-e91ad80d4df8",
   "metadata": {},
   "outputs": [],
   "source": [
    "all_shot_ids = pk.loc[pk['Event'].isin(['Goal', 'Shot']), 'Sequence ID'].values"
   ]
  },
  {
   "cell_type": "code",
   "execution_count": 16,
   "id": "3efd0149-6572-4ed9-8d8b-4ef1aacd0061",
   "metadata": {},
   "outputs": [],
   "source": [
    "shot_ids = np.unique(all_shot_ids)"
   ]
  },
  {
   "cell_type": "code",
   "execution_count": 17,
   "id": "4123d0da-60f1-4783-be4d-1ea7a9738a62",
   "metadata": {},
   "outputs": [],
   "source": [
    "myseqs = [df.loc[df['Sequence ID'] == seq_id] for seq_id in shot_ids]"
   ]
  },
  {
   "cell_type": "code",
   "execution_count": 18,
   "id": "9227f561-ce98-48eb-afbe-2d586c787726",
   "metadata": {},
   "outputs": [],
   "source": [
    "myseq = df.loc[df['Sequence ID'].isin([109])]"
   ]
  },
  {
   "cell_type": "code",
   "execution_count": 19,
   "id": "2a6a7c97-3a0c-4cff-8d54-8d9dc8372a11",
   "metadata": {},
   "outputs": [
    {
     "data": {
      "text/html": [
       "<div>\n",
       "<style scoped>\n",
       "    .dataframe tbody tr th:only-of-type {\n",
       "        vertical-align: middle;\n",
       "    }\n",
       "\n",
       "    .dataframe tbody tr th {\n",
       "        vertical-align: top;\n",
       "    }\n",
       "\n",
       "    .dataframe thead th {\n",
       "        text-align: right;\n",
       "    }\n",
       "</style>\n",
       "<table border=\"1\" class=\"dataframe\">\n",
       "  <thead>\n",
       "    <tr style=\"text-align: right;\">\n",
       "      <th></th>\n",
       "      <th>Sequence ID</th>\n",
       "      <th>Event</th>\n",
       "      <th>X Coordinate</th>\n",
       "      <th>Y Coordinate</th>\n",
       "      <th>X Coordinate 2</th>\n",
       "      <th>Detail 1</th>\n",
       "      <th>Plays of Interest</th>\n",
       "    </tr>\n",
       "  </thead>\n",
       "  <tbody>\n",
       "    <tr>\n",
       "      <th>438</th>\n",
       "      <td>109</td>\n",
       "      <td>Puck Recovery</td>\n",
       "      <td>3</td>\n",
       "      <td>52</td>\n",
       "      <td>NaN</td>\n",
       "      <td>NaN</td>\n",
       "      <td>NaN</td>\n",
       "    </tr>\n",
       "    <tr>\n",
       "      <th>439</th>\n",
       "      <td>109</td>\n",
       "      <td>Play</td>\n",
       "      <td>33</td>\n",
       "      <td>81</td>\n",
       "      <td>118.0</td>\n",
       "      <td>Indirect</td>\n",
       "      <td>Controlled exit</td>\n",
       "    </tr>\n",
       "    <tr>\n",
       "      <th>440</th>\n",
       "      <td>109</td>\n",
       "      <td>Zone Entry</td>\n",
       "      <td>125</td>\n",
       "      <td>81</td>\n",
       "      <td>NaN</td>\n",
       "      <td>Carried</td>\n",
       "      <td>Controlled entry</td>\n",
       "    </tr>\n",
       "    <tr>\n",
       "      <th>441</th>\n",
       "      <td>109</td>\n",
       "      <td>Shot</td>\n",
       "      <td>176</td>\n",
       "      <td>54</td>\n",
       "      <td>NaN</td>\n",
       "      <td>Wristshot</td>\n",
       "      <td>NaN</td>\n",
       "    </tr>\n",
       "  </tbody>\n",
       "</table>\n",
       "</div>"
      ],
      "text/plain": [
       "     Sequence ID          Event  X Coordinate  Y Coordinate  X Coordinate 2  \\\n",
       "438          109  Puck Recovery             3            52             NaN   \n",
       "439          109           Play            33            81           118.0   \n",
       "440          109     Zone Entry           125            81             NaN   \n",
       "441          109           Shot           176            54             NaN   \n",
       "\n",
       "      Detail 1 Plays of Interest  \n",
       "438        NaN               NaN  \n",
       "439   Indirect   Controlled exit  \n",
       "440    Carried  Controlled entry  \n",
       "441  Wristshot               NaN  "
      ]
     },
     "execution_count": 19,
     "metadata": {},
     "output_type": "execute_result"
    }
   ],
   "source": [
    "myseq.loc[:, ['Sequence ID', 'Event', 'X Coordinate', 'Y Coordinate', 'X Coordinate 2', 'Detail 1', 'Plays of Interest']]"
   ]
  },
  {
   "cell_type": "code",
   "execution_count": 20,
   "id": "9ae23ee4-a1b8-44ef-a838-bd5f032afb96",
   "metadata": {},
   "outputs": [
    {
     "data": {
      "image/png": "[encoded data removed]",
      "text/plain": [
       "<Figure size 1200x800 with 1 Axes>"
      ]
     },
     "metadata": {},
     "output_type": "display_data"
    }
   ],
   "source": [
    "g = sns.scatterplot(data=myseq, x='X Coordinate', y='Y Coordinate', legend=False)\n",
    "# draw arrows between plays\n",
    "for i in range(len(myseq) - 1):\n",
    "    r = myseq.iloc[i]\n",
    "    r1 = myseq.iloc[i + 1]\n",
    "    if r['Event'] == 'Play':\n",
    "        g.axes.arrow(\n",
    "            r['X Coordinate'], r['Y Coordinate'], \n",
    "            r['X Coordinate 2'] - r['X Coordinate'],\n",
    "            r['Y Coordinate 2'] - r['Y Coordinate'],\n",
    "            length_includes_head=True, \n",
    "            head_width=1,\n",
    "            fc='black'\n",
    "        )\n",
    "        g.axes.arrow(\n",
    "            r['X Coordinate 2'], r['Y Coordinate 2'], \n",
    "            r1['X Coordinate'] - r['X Coordinate 2'],\n",
    "            r1['Y Coordinate'] - r['Y Coordinate 2'],\n",
    "            length_includes_head=True, \n",
    "            head_width=1,\n",
    "            fc='purple',\n",
    "            ec='purple'\n",
    "        )\n",
    "    else:\n",
    "        g.axes.arrow(\n",
    "            r['X Coordinate'], r['Y Coordinate'], \n",
    "            r1['X Coordinate'] - r['X Coordinate'],\n",
    "            r1['Y Coordinate'] - r['Y Coordinate'],\n",
    "            length_includes_head=True, \n",
    "            head_width=1,\n",
    "            fc='black'\n",
    "        )\n",
    "# label plays\n",
    "for l in range(myseq.shape[0]):\n",
    "    if l < myseq.shape[0] - 1:\n",
    "        if (\n",
    "            (myseq['X Coordinate'].iloc[l] == myseq['X Coordinate'].iloc[l + 1]) &\n",
    "            (myseq['Y Coordinate'].iloc[l] == myseq['Y Coordinate'].iloc[l + 1])\n",
    "        ):\n",
    "            continue\n",
    "    if l > 0:\n",
    "        if (\n",
    "            (myseq['X Coordinate'].iloc[l] == myseq['X Coordinate'].iloc[l - 1]) &\n",
    "            (myseq['Y Coordinate'].iloc[l] == myseq['Y Coordinate'].iloc[l - 1])\n",
    "        ):\n",
    "            g.text(\n",
    "                myseq['X Coordinate'].iloc[l] + 2,\n",
    "                myseq['Y Coordinate'].iloc[l] - 1, \n",
    "                myseq['Event'].iloc[l - 1] + ', ' + myseq['Event'].iloc[l],\n",
    "                horizontalalignment='left',\n",
    "                size='small',\n",
    "                color='black'\n",
    "            )\n",
    "            continue\n",
    "    g.text(\n",
    "        myseq['X Coordinate'].iloc[l] + 2,\n",
    "        myseq['Y Coordinate'].iloc[l] - 1,\n",
    "        myseq['Event'].iloc[l],\n",
    "        horizontalalignment='left',\n",
    "        size='small',\n",
    "        color='black'\n",
    "    )\n",
    "g.set_xlim(0, 200)\n",
    "g.set_ylim(0, 85)\n",
    "g.axvline(75, 0, 1, color='blue')\n",
    "g.axvline(100, 0, 1, color='red')\n",
    "g.axvline(125, 0, 1, color='blue')\n",
    "plt.title(\"Sequence of short handed plays\")\n",
    "plt.show(g)"
   ]
  }
 ],
 "metadata": {
  "kernelspec": {
   "display_name": "Python 3 (ipykernel)",
   "language": "python",
   "name": "python3"
  },
  "language_info": {
   "codemirror_mode": {
    "name": "ipython",
    "version": 3
   },
   "file_extension": ".py",
   "mimetype": "text/x-python",
   "name": "python",
   "nbconvert_exporter": "python",
   "pygments_lexer": "ipython3",
   "version": "3.9.9"
  }
 },
 "nbformat": 4,
 "nbformat_minor": 5
}

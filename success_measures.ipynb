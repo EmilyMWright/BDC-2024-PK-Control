{
 "cells": [
  {
   "cell_type": "markdown",
   "id": "3bbc9962-a76c-4cd3-9486-b704e6f6e0b8",
   "metadata": {},
   "source": [
    "# Success measures and combinaiton per penalty kill"
   ]
  },
  {
   "cell_type": "markdown",
   "id": "2d37cb3e-3ae2-4b6a-816b-d9072211ac74",
   "metadata": {},
   "source": [
    "## Imports"
   ]
  },
  {
   "cell_type": "code",
   "execution_count": 1,
   "id": "e5cc63b3-a857-441f-838b-b5cbed79d32c",
   "metadata": {},
   "outputs": [],
   "source": [
    "import pandas as pd\n",
    "import numpy as np\n",
    "import matplotlib.pyplot as plt\n",
    "import seaborn as sns"
   ]
  },
  {
   "cell_type": "code",
   "execution_count": 2,
   "id": "1e891360-c651-4e75-a20f-b8555804d532",
   "metadata": {},
   "outputs": [],
   "source": [
    "plt.rcParams['figure.dpi'] = 200\n",
    "plt.rcParams['figure.facecolor'] = 'white'"
   ]
  },
  {
   "cell_type": "markdown",
   "id": "4d09ca1e-0d5a-4473-b116-f3fb74cace39",
   "metadata": {},
   "source": [
    "## Load data"
   ]
  },
  {
   "cell_type": "code",
   "execution_count": 3,
   "id": "c9bb2f8c-4691-4c24-854e-b39f358bb6e6",
   "metadata": {},
   "outputs": [],
   "source": [
    "df = pd.read_csv('data/BDC_2024_Data_Cleaned.csv', index_col=0)\n",
    "entries = pd.read_csv('data/BDC_2024_Zone_Entries.csv', index_col=0)\n",
    "df['Plays of Interest'] = pd.read_csv('data/BDC_2024_Plays_of_Interest.csv', index_col=0)"
   ]
  },
  {
   "cell_type": "code",
   "execution_count": 4,
   "id": "1c4cd4b3-a712-40e2-9b35-9d686666ea37",
   "metadata": {},
   "outputs": [],
   "source": [
    "pk = df.loc[df['Team Status'] == 'PK'].copy()\n",
    "pp = df.loc[df['Team Status'] == 'PP'].copy()\n",
    "p = df.loc[(df['Team Status'] == 'PK') | (df['Team Status'] == 'PP')]"
   ]
  },
  {
   "cell_type": "code",
   "execution_count": 5,
   "id": "920a7488-b885-4648-b901-236146efe285",
   "metadata": {},
   "outputs": [],
   "source": [
    "num_pens = pk['Penalty ID'].nunique()"
   ]
  },
  {
   "cell_type": "code",
   "execution_count": 6,
   "id": "11911315-8b26-4fd8-b9c2-a3912b857836",
   "metadata": {},
   "outputs": [],
   "source": [
    "pk_grp = pk.groupby('Penalty ID')\n",
    "pk_df = pk_grp['Plays of Interest'].value_counts(sort=False).unstack(fill_value=0).reset_index().rename_axis([None], axis=1)"
   ]
  },
  {
   "cell_type": "code",
   "execution_count": 7,
   "id": "ace274a6-92f6-4a25-a649-4655133c6a6d",
   "metadata": {},
   "outputs": [],
   "source": [
    "pp_grp = pp.groupby('Penalty ID')\n",
    "pp_df = pp_grp['Plays of Interest'].value_counts(sort=False).unstack(fill_value=0).reset_index().rename_axis([None], axis=1)\n",
    "pk_df = pd.merge(pk_df, pp_df, suffixes=[' F', ' A'], how='outer', on='Penalty ID')"
   ]
  },
  {
   "cell_type": "code",
   "execution_count": 8,
   "id": "6213dfdd-2378-419f-9123-4837fb1654f7",
   "metadata": {},
   "outputs": [],
   "source": [
    "# shots for and against per PK\n",
    "shots_against = pp.loc[(pp['Event'] == 'Shot') | (pp['Event'] == 'Goal')].groupby('Penalty ID').size()\n",
    "shots_against.name = 'Shots A'\n",
    "shots_for = pk.loc[(pk['Event'] == 'Shot') | (pk['Event'] == 'Goal')].groupby('Penalty ID').size()\n",
    "shots_for.name = 'Shots F'\n",
    "pk_df = pd.merge(pk_df, shots_for, how='left', on='Penalty ID')\n",
    "pk_df = pd.merge(pk_df, shots_against, how='left', on='Penalty ID')\n",
    "\n",
    "# shots for and against not blocked per PK\n",
    "shots_for_nb = pk.loc[\n",
    "    ((pk['Event'] == 'Shot') & (pk['Detail 2'] != 'blocked')) | \n",
    "    (pk['Event'] == 'Goal')\n",
    "].groupby('Penalty ID').size().reindex(np.arange(1, num_pens + 1), fill_value=0)\n",
    "\n",
    "shots_against_nb = pp.loc[\n",
    "    ((pp['Event'] == 'Shot') & (pp['Detail 2'] != 'blocked')) | \n",
    "    (pp['Event'] == 'Goal')\n",
    "].groupby('Penalty ID').size().reindex(np.arange(1, num_pens + 1), fill_value=0)\n",
    "\n",
    "# Fenwick score\n",
    "fen = shots_against_nb - shots_for_nb\n",
    "fen.name = 'Fenwick A'\n",
    "pk_df = pd.merge(pk_df, fen, how='left', on='Penalty ID')"
   ]
  },
  {
   "cell_type": "code",
   "execution_count": 9,
   "id": "8bfc8018-d1ed-4209-81aa-5f24a253e9cd",
   "metadata": {},
   "outputs": [],
   "source": [
    "# possession\n",
    "g1 = pk.groupby(['Penalty ID'])\n",
    "posf = g1['Pos Time'].agg(lambda x: x.drop_duplicates(keep='first').sum())\n",
    "posf.reindex(np.arange(1, num_pens + 1), fill_value=0)\n",
    "\n",
    "g2 = pp.groupby(['Penalty ID'])\n",
    "posa = g2['Pos Time'].agg(lambda x: x.drop_duplicates(keep='first').sum())\n",
    "posa.reindex(np.arange(1, num_pens + 1), fill_value=0)\n",
    "\n",
    "ppos = 100 * posf / (posf + posa)\n",
    "ppos.name = '% Possession F'\n",
    "pk_df = pd.merge(pk_df, ppos, how='left', on='Penalty ID').fillna(0)"
   ]
  },
  {
   "cell_type": "code",
   "execution_count": 10,
   "id": "d6059109-f04d-40a4-8c10-8207973d1807",
   "metadata": {},
   "outputs": [],
   "source": [
    "# time in zone\n",
    "in_d_zone = (\n",
    "    ((df['Team Status'] == 'PK') & (df['X Coordinate'] < 75)) | \n",
    "    ((df['Team Status'] == 'PP') & (df['X Coordinate'] > 125))\n",
    ")\n",
    "d_zone_entr = (in_d_zone.shift(1) == False) & (in_d_zone == True)\n",
    "d_zone_ext = ((in_d_zone.shift(-1).fillna(0) == False) & (in_d_zone == True))\n",
    "time_entr = df.loc[d_zone_entr, 'Time']\n",
    "time_ext = df.loc[d_zone_ext, 'Time']\n",
    "zone_ts = time_ext.values - time_entr.values\n",
    "\n",
    "df['Time in D Zone'] = [0] * df.shape[0]\n",
    "df.loc[d_zone_entr, 'Time in D Zone'] = zone_ts\n",
    "pk_zone_ts = df.groupby('Penalty ID')['Time in D Zone'].sum().rename('Time in D Zone')\n",
    "pk_df = pd.merge(pk_df, pk_zone_ts, how='left', on='Penalty ID').fillna(0)"
   ]
  },
  {
   "cell_type": "code",
   "execution_count": 11,
   "id": "5652976f-82e2-454c-9658-54d84655b613",
   "metadata": {},
   "outputs": [],
   "source": [
    "# cf = (\n",
    "#     pk_df['Controlled entry F'] + \n",
    "#     pk_df['Failed controlled entry F'] +\n",
    "#     pk_df['Controlled exit F'] +\n",
    "#     # pk_df['Failed controlled exit F'] + \n",
    "#     pk_df['Neutral zone pass F'] +\n",
    "#     # pk_df['Failed neutral zone pass F'] +\n",
    "#     pk_df['Cycle back']\n",
    "# )\n",
    "\n",
    "# ncf = (\n",
    "#     pk_df['Dump in F'] + \n",
    "#     # pk_df['Failed dump in F'] +\n",
    "#     pk_df['Dump out F'] +\n",
    "#     pk_df['Failed dump out']\n",
    "# )\n",
    "\n",
    "# pk_df['Control F'] = (cf - ncf) / (cf + ncf)"
   ]
  },
  {
   "cell_type": "code",
   "execution_count": 12,
   "id": "767b96e7-5398-4929-a0e0-b6f7364ab6e6",
   "metadata": {},
   "outputs": [],
   "source": [
    "# ca = (\n",
    "#     pk_df['Controlled entry A'] + \n",
    "#     # pk_df['Failed controlled entry A'] +\n",
    "#     pk_df['Controlled exit A'] +\n",
    "#     # pk_df['Failed controlled exit'] + \n",
    "#     # pk_df['Neutral zone pass A'] \n",
    "#     # pk_df['Failed neutral zone pass']\n",
    "# )\n",
    "\n",
    "# nca = (\n",
    "#         pk_df['Dump in A'] +\n",
    "#         pk_df['Dump out A']\n",
    "# ) \n",
    "\n",
    "# pk_df['Control A'] = (ca - nca) / (ca + nca)"
   ]
  },
  {
   "cell_type": "code",
   "execution_count": 13,
   "id": "79be85fd-ac18-4c50-b5e1-bf51d62796bb",
   "metadata": {},
   "outputs": [],
   "source": [
    "# pk_df['Control'].fillna(0, inplace=True)\n",
    "# pk_df['Control'].replace([np.inf, -np.inf], 0, inplace=True)"
   ]
  },
  {
   "cell_type": "code",
   "execution_count": 14,
   "id": "23411fd3-d51d-4c43-a389-a27ea4245834",
   "metadata": {},
   "outputs": [],
   "source": [
    "pk_df.to_csv('data/BDC_2024_Penalty_Kill_Statistics.csv')"
   ]
  }
 ],
 "metadata": {
  "kernelspec": {
   "display_name": "Python 3 (ipykernel)",
   "language": "python",
   "name": "python3"
  },
  "language_info": {
   "codemirror_mode": {
    "name": "ipython",
    "version": 3
   },
   "file_extension": ".py",
   "mimetype": "text/x-python",
   "name": "python",
   "nbconvert_exporter": "python",
   "pygments_lexer": "ipython3",
   "version": "3.9.9"
  }
 },
 "nbformat": 4,
 "nbformat_minor": 5
}

{
 "cells": [
  {
   "cell_type": "markdown",
   "id": "3bbc9962-a76c-4cd3-9486-b704e6f6e0b8",
   "metadata": {},
   "source": [
    "# Success measures and combinaiton per penalty kill"
   ]
  },
  {
   "cell_type": "markdown",
   "id": "2d37cb3e-3ae2-4b6a-816b-d9072211ac74",
   "metadata": {},
   "source": [
    "## Imports"
   ]
  },
  {
   "cell_type": "code",
   "execution_count": 1,
   "id": "e5cc63b3-a857-441f-838b-b5cbed79d32c",
   "metadata": {},
   "outputs": [],
   "source": [
    "import pandas as pd\n",
    "import numpy as np\n",
    "import matplotlib.pyplot as plt\n",
    "import seaborn as sns"
   ]
  },
  {
   "cell_type": "code",
   "execution_count": 2,
   "id": "1e891360-c651-4e75-a20f-b8555804d532",
   "metadata": {},
   "outputs": [],
   "source": [
    "plt.rcParams['figure.dpi'] = 200\n",
    "plt.rcParams['figure.facecolor'] = 'white'"
   ]
  },
  {
   "cell_type": "markdown",
   "id": "4d09ca1e-0d5a-4473-b116-f3fb74cace39",
   "metadata": {},
   "source": [
    "## Load data"
   ]
  },
  {
   "cell_type": "code",
   "execution_count": 3,
   "id": "f2b88032-a744-4ac2-b0d4-613f7df33d3f",
   "metadata": {},
   "outputs": [],
   "source": [
    "yr = '2021'"
   ]
  },
  {
   "cell_type": "code",
   "execution_count": 4,
   "id": "c9bb2f8c-4691-4c24-854e-b39f358bb6e6",
   "metadata": {},
   "outputs": [],
   "source": [
    "df = pd.read_csv('data/BDC_' + yr + '_Data_Cleaned.csv', index_col=0)\n",
    "entries = pd.read_csv('data/BDC_' + yr + '_Zone_Entries.csv', index_col=0)\n",
    "df['Plays of Interest'] = pd.read_csv('data/BDC_' + yr + '_Plays_of_Interest.csv', index_col=0)"
   ]
  },
  {
   "cell_type": "code",
   "execution_count": 5,
   "id": "1c4cd4b3-a712-40e2-9b35-9d686666ea37",
   "metadata": {},
   "outputs": [],
   "source": [
    "pk = df.loc[df['Team Status'] == 'PK'].copy()\n",
    "pp = df.loc[df['Team Status'] == 'PP'].copy()\n",
    "p = df.loc[(df['Team Status'] == 'PK') | (df['Team Status'] == 'PP')]"
   ]
  },
  {
   "cell_type": "code",
   "execution_count": 6,
   "id": "920a7488-b885-4648-b901-236146efe285",
   "metadata": {},
   "outputs": [],
   "source": [
    "num_pens = pk['Penalty ID'].nunique()"
   ]
  },
  {
   "cell_type": "code",
   "execution_count": 7,
   "id": "11911315-8b26-4fd8-b9c2-a3912b857836",
   "metadata": {},
   "outputs": [],
   "source": [
    "pk_grp = pk.groupby('Penalty ID')\n",
    "pk_df = (\n",
    "    pk_grp['Plays of Interest']\n",
    "    .value_counts(sort=False)\n",
    "    .unstack(fill_value=0)\n",
    "    .reset_index()\n",
    "    .rename_axis([None], axis=1)\n",
    ")\n",
    "pp_grp = pp.groupby('Penalty ID')\n",
    "pp_df = (\n",
    "    pp_grp['Plays of Interest']\n",
    "    .value_counts(sort=False)\n",
    "    .unstack(fill_value=0)\n",
    "    .reset_index()\n",
    "    .rename_axis([None], axis=1)\n",
    ")"
   ]
  },
  {
   "cell_type": "code",
   "execution_count": 8,
   "id": "3fa36731-4547-43e5-8c34-4cb02ecf92c5",
   "metadata": {},
   "outputs": [],
   "source": [
    "plays = df['Plays of Interest'].dropna().unique()\n",
    "for play in plays:\n",
    "    if not play in pk_df.columns:\n",
    "        pk_df[play] = np.zeros(pk_df.shape[0])\n",
    "    if not play in pp_df.columns:\n",
    "        pp_df[play] = np.zeros(pp_df.shape[0])"
   ]
  },
  {
   "cell_type": "code",
   "execution_count": 9,
   "id": "ace274a6-92f6-4a25-a649-4655133c6a6d",
   "metadata": {},
   "outputs": [],
   "source": [
    "pk_df = pd.merge(pk_df, pp_df, suffixes=[' F', ' A'], how='outer', on='Penalty ID')"
   ]
  },
  {
   "cell_type": "code",
   "execution_count": 10,
   "id": "6213dfdd-2378-419f-9123-4837fb1654f7",
   "metadata": {},
   "outputs": [],
   "source": [
    "# shots for and against per PK\n",
    "shots_against = pp.loc[(pp['Event'] == 'Shot') | (pp['Event'] == 'Goal')].groupby('Penalty ID').size()\n",
    "shots_against.name = 'Shots A'\n",
    "shots_for = pk.loc[(pk['Event'] == 'Shot') | (pk['Event'] == 'Goal')].groupby('Penalty ID').size()\n",
    "shots_for.name = 'Shots F'\n",
    "pk_df = pd.merge(pk_df, shots_for, how='left', on='Penalty ID')\n",
    "pk_df = pd.merge(pk_df, shots_against, how='left', on='Penalty ID')\n",
    "\n",
    "# shots for and against not blocked per PK\n",
    "shots_for_nb = pk.loc[\n",
    "    ((pk['Event'] == 'Shot') & (pk['Detail 2'] != 'blocked')) | \n",
    "    (pk['Event'] == 'Goal')\n",
    "].groupby('Penalty ID').size().reindex(np.arange(1, num_pens + 1), fill_value=0)\n",
    "\n",
    "shots_against_nb = pp.loc[\n",
    "    ((pp['Event'] == 'Shot') & (pp['Detail 2'] != 'blocked')) | \n",
    "    (pp['Event'] == 'Goal')\n",
    "].groupby('Penalty ID').size().reindex(np.arange(1, num_pens + 1), fill_value=0)\n",
    "\n",
    "# Fenwick score\n",
    "fen = shots_against_nb - shots_for_nb\n",
    "fen.name = 'Fenwick A'\n",
    "pk_df = pd.merge(pk_df, fen, how='left', on='Penalty ID')"
   ]
  },
  {
   "cell_type": "code",
   "execution_count": 11,
   "id": "8bfc8018-d1ed-4209-81aa-5f24a253e9cd",
   "metadata": {},
   "outputs": [],
   "source": [
    "# possession\n",
    "g1 = pk.groupby(['Penalty ID'])\n",
    "posf = g1['Pos Time'].agg(lambda x: x.drop_duplicates(keep='first').sum())\n",
    "posf.reindex(np.arange(1, num_pens + 1), fill_value=0)\n",
    "\n",
    "g2 = pp.groupby(['Penalty ID'])\n",
    "posa = g2['Pos Time'].agg(lambda x: x.drop_duplicates(keep='first').sum())\n",
    "posa.reindex(np.arange(1, num_pens + 1), fill_value=0)\n",
    "\n",
    "ppos = 100 * posf / (posf + posa)\n",
    "ppos.name = '% Possession F'\n",
    "pk_df = pd.merge(pk_df, ppos, how='left', on='Penalty ID').fillna(0)"
   ]
  },
  {
   "cell_type": "code",
   "execution_count": 12,
   "id": "d6059109-f04d-40a4-8c10-8207973d1807",
   "metadata": {},
   "outputs": [],
   "source": [
    "# time in zone\n",
    "in_d_zone = (\n",
    "    ((df['Team Status'] == 'PK') & (df['X Coordinate'] < 75)) | \n",
    "    ((df['Team Status'] == 'PP') & (df['X Coordinate'] > 125))\n",
    ")\n",
    "d_zone_entr = (in_d_zone.shift(1) == False) & (in_d_zone == True)\n",
    "d_zone_ext = ((in_d_zone.shift(-1).fillna(0) == False) & (in_d_zone == True))\n",
    "time_entr = df.loc[d_zone_entr, 'Time']\n",
    "time_ext = df.loc[d_zone_ext, 'Time']\n",
    "zone_ts = time_ext.values - time_entr.values\n",
    "\n",
    "df['Time in D Zone'] = [0] * df.shape[0]\n",
    "df.loc[d_zone_entr, 'Time in D Zone'] = zone_ts\n",
    "pk_zone_ts = df.groupby('Penalty ID')['Time in D Zone'].sum().rename('Time in D Zone')\n",
    "pk_df = pd.merge(pk_df, pk_zone_ts, how='left', on='Penalty ID').fillna(0)"
   ]
  },
  {
   "cell_type": "code",
   "execution_count": 13,
   "id": "23411fd3-d51d-4c43-a389-a27ea4245834",
   "metadata": {},
   "outputs": [],
   "source": [
    "pk_df.to_csv('data/BDC_' + yr + '_Penalty_Kill_Statistics.csv')"
   ]
  },
  {
   "cell_type": "code",
   "execution_count": null,
   "id": "1afe23ff-b97f-44fe-ad57-ac3632df1eb2",
   "metadata": {},
   "outputs": [],
   "source": []
  }
 ],
 "metadata": {
  "kernelspec": {
   "display_name": "Python 3 (ipykernel)",
   "language": "python",
   "name": "python3"
  },
  "language_info": {
   "codemirror_mode": {
    "name": "ipython",
    "version": 3
   },
   "file_extension": ".py",
   "mimetype": "text/x-python",
   "name": "python",
   "nbconvert_exporter": "python",
   "pygments_lexer": "ipython3",
   "version": "3.9.9"
  }
 },
 "nbformat": 4,
 "nbformat_minor": 5
}

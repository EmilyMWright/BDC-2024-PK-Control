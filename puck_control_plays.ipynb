{
 "cells": [
  {
   "cell_type": "markdown",
   "id": "e59f85ad-cc30-483d-abe4-5fd992c518b9",
   "metadata": {},
   "source": [
    "# Puck control and possession\n",
    "Expanding on Matt Cane's definition of penalty kill aggressiveness, I consider controlled exits, passing plays in the neutral zone, and cycling back out of the offesnive zone."
   ]
  },
  {
   "cell_type": "markdown",
   "id": "fc05f1a8-9177-4bb1-a7e3-04a5c83318e0",
   "metadata": {},
   "source": [
    "## Imports"
   ]
  },
  {
   "cell_type": "code",
   "execution_count": 1,
   "id": "2a1d686f-cca8-46cc-9945-902d96b2b5dc",
   "metadata": {},
   "outputs": [],
   "source": [
    "import pandas as pd\n",
    "import numpy as np\n",
    "import matplotlib.pyplot as plt\n",
    "import seaborn as sns"
   ]
  },
  {
   "cell_type": "code",
   "execution_count": 2,
   "id": "aab2f1dc-59c3-4ffd-bf38-15647bc891d1",
   "metadata": {},
   "outputs": [],
   "source": [
    "plt.rcParams['figure.dpi'] = 200\n",
    "plt.rcParams['figure.facecolor'] = 'white'"
   ]
  },
  {
   "cell_type": "markdown",
   "id": "f39b8bb2-c7da-484f-bc9d-17481367ac75",
   "metadata": {},
   "source": [
    "## Load data"
   ]
  },
  {
   "cell_type": "code",
   "execution_count": 3,
   "id": "de441fd0-c377-42bb-a896-32b8c5b02e90",
   "metadata": {},
   "outputs": [],
   "source": [
    "df = pd.read_csv('data/BDC_2024_Data_Cleaned.csv', index_col=0)\n",
    "entries = pd.read_csv('data/BDC_2024_Zone_Entries.csv', index_col=0)"
   ]
  },
  {
   "cell_type": "markdown",
   "id": "c1902262-66ea-46ce-9fbb-c889d5e2673f",
   "metadata": {
    "tags": []
   },
   "source": [
    "## Find plays"
   ]
  },
  {
   "cell_type": "code",
   "execution_count": 4,
   "id": "71650cec-0761-4a1e-85d1-bc11dec7adf2",
   "metadata": {},
   "outputs": [],
   "source": [
    "def play_of_interest(row):\n",
    "    if (\n",
    "        (row['Event'] == 'Faceoff Win') | \n",
    "        (row['Event'] == 'Penalty')\n",
    "    ):\n",
    "        return np.nan\n",
    "    elif row['Next Event'] == 'Faceoff Win':\n",
    "        # offside or icing\n",
    "        if row['Event'] == 'Dump In/Out':\n",
    "                return 'Failed dump in'\n",
    "        # offside\n",
    "        if (\n",
    "            (row['Next X Coordinate'] == 80) |\n",
    "            (row['Next X Coordinate'] == 120)\n",
    "        ):\n",
    "            return 'Failed controlled entry'\n",
    "        else:\n",
    "            return np.nan\n",
    "    # possession maintained\n",
    "    elif row['Pos Retained']:\n",
    "        # puck enters offensive zone\n",
    "        if (\n",
    "            (row['X Coordinate'] < 125) & \n",
    "            (row['Next X Coordinate'] > 125)\n",
    "        ):\n",
    "            if row['Event'] == 'Dump In/Out':\n",
    "                if row['X Coordinate'] > 75:\n",
    "                    return 'Dump in'\n",
    "                else:\n",
    "                    return 'Dump out'\n",
    "            elif (\n",
    "                (row['Next X Coordinate'] < 130) & \n",
    "                (row['Next Event'] == 'Dump In/Out')\n",
    "            ):\n",
    "                return 'Dump in'\n",
    "            # require entry info from given database\n",
    "            elif row['Entry']:\n",
    "                return 'Controlled entry'\n",
    "            else:\n",
    "                return np.nan\n",
    "        # puck exits defensive zone\n",
    "        elif (\n",
    "            (row['X Coordinate'] < 75) & \n",
    "            (row['Next X Coordinate'] > 75)\n",
    "        ):\n",
    "            if row['Event'] == 'Dump In/Out':\n",
    "                return 'Dump out'\n",
    "            # TODO restrict closeness?\n",
    "            else:\n",
    "                return 'Controlled exit'\n",
    "        # puck exits offensive zone\n",
    "        elif (\n",
    "            (row['X Coordinate'] > 125) & \n",
    "            (row['Next X Coordinate'] < 125)\n",
    "        ):\n",
    "            if row['Event'] == 'Dump In/Out':\n",
    "                return 'Dump back'\n",
    "            elif (\n",
    "                (row['Event'] == 'Play') &\n",
    "                (row['X Coordinate 2'] < 125)\n",
    "            ):\n",
    "                return 'Cycle back'\n",
    "            else:\n",
    "                return np.nan\n",
    "        # puck is played within neutral zone\n",
    "        elif (\n",
    "            (row['X Coordinate'] > 75) & \n",
    "            (row['X Coordinate 2'] < 125)\n",
    "        ):\n",
    "            if row['Event'] == 'Play':\n",
    "                return 'Neutral zone pass'\n",
    "            if row['Event'] == 'Incomplete Play':\n",
    "                return 'Failed neutral zone pass'\n",
    "            else:\n",
    "                return np.nan\n",
    "        else:\n",
    "            return np.nan\n",
    "    # possession lost\n",
    "    else:   \n",
    "        # failed dump in\n",
    "        if (\n",
    "            (row['X Coordinate'] > 100) & \n",
    "            (row['X Coordinate'] < 125) & \n",
    "            (row['Next X Coordinate'] > 75) &\n",
    "            (row['Event'] == 'Dump In/Out')\n",
    "        ):\n",
    "            return 'Failed dump in'\n",
    "        # puck stays in offensive zone\n",
    "        elif (\n",
    "            (row['X Coordinate'] < 125) & \n",
    "            (row['Next X Coordinate'] < 75)\n",
    "        ):\n",
    "            if row['Event'] == 'Dump In/Out':\n",
    "                if row['X Coordinate'] > 75:\n",
    "                    return 'Dump in'\n",
    "                else:\n",
    "                    return 'Dump out'\n",
    "            # puck gets taken away\n",
    "            elif (\n",
    "                (row['Next Event'] == 'Puck Recovery') | \n",
    "                (row['Next Event'] == 'Takeaway') |\n",
    "                (row['Next Event'] == 'Penalty Taken') \n",
    "            ):\n",
    "                # near the blue line\n",
    "                if row['Next X Coordinate'] > 65:\n",
    "                    return 'Failed controlled entry'\n",
    "                # deep in the zone\n",
    "                # require entry info from given database\n",
    "                elif row['Entry']:\n",
    "                    return 'Controlled entry'\n",
    "                else:\n",
    "                    return np.nan\n",
    "            # entry somehow failed another way\n",
    "            else:\n",
    "                # pass from outside offensive zone\n",
    "                if (\n",
    "                    (row['Event'] == 'Play') | \n",
    "                    (row['Event'] == 'Incomplete Play')\n",
    "                ):\n",
    "                    # intended recipient was in offensive zone\n",
    "                    if row['X Coordinate 2'] >  125:\n",
    "                        return 'Failed controlled entry'\n",
    "                    else:\n",
    "                        return np.nan\n",
    "                else:\n",
    "                    return np.nan\n",
    "        # puck exits defensive zone\n",
    "        elif (\n",
    "            (row['X Coordinate'] < 75) & \n",
    "            (row['Next X Coordinate'] < 125)\n",
    "        ):\n",
    "            if row['Event'] == 'Dump In/Out':\n",
    "                return 'Dump out'\n",
    "            # puck gets taken away\n",
    "            elif (\n",
    "                (row['Next Event'] == 'Puck Recovery') | \n",
    "                (row['Next Event'] == 'Takeaway')\n",
    "            ):\n",
    "                # near the blue line\n",
    "                if row['Next X Coordinate'] > 115:\n",
    "                    return 'Failed controlled exit'\n",
    "                else:\n",
    "                    return np.nan\n",
    "            # exit somehow failed another way\n",
    "            else:\n",
    "                # pass from inside defensive zone\n",
    "                if (\n",
    "                    (row['Event'] == 'Play') | \n",
    "                    (row['Event'] == 'Incomplete Play')\n",
    "                ):\n",
    "                    # intended recipient was in neutral zone\n",
    "                    if row['X Coordinate 2'] > 75:\n",
    "                        return 'Failed controlled exit'\n",
    "                    else:\n",
    "                        return np.nan\n",
    "                else:\n",
    "                    return np.nan\n",
    "        # puck exits offensive zone\n",
    "        elif (\n",
    "            (row['X Coordinate'] > 125) & \n",
    "            (row['Next X Coordinate'] > 75)\n",
    "        ):\n",
    "            if row['Event'] == 'Dump In/Out':\n",
    "                return 'Dump back'\n",
    "            # shot or goal led to faceoff win\n",
    "            elif row['Next Event'] == 'Faceoff Win':\n",
    "                return np.nan\n",
    "            elif (\n",
    "                (row['Event'] == 'Play') | \n",
    "                (row['Event'] == 'Incomplete Play')\n",
    "            ):\n",
    "                if row['X Coordinate 2'] < 125:\n",
    "                    return 'Failed cycle back'\n",
    "                else:\n",
    "                    return np.nan\n",
    "            # some puck recoveries\n",
    "            else:\n",
    "                return np.nan\n",
    "        # puck stays in defensive zone\n",
    "        elif (\n",
    "            (row['X Coordinate'] < 75) & \n",
    "            (row['Next X Coordinate'] > 125)\n",
    "        ):\n",
    "            if row['Event'] == 'Dump In/Out':\n",
    "                return 'Failed dump out'\n",
    "            # puck gets taken away\n",
    "            elif (\n",
    "                (row['Event'] == 'Puck Recovery') | \n",
    "                (row['Event'] == 'Takeaway')\n",
    "            ):\n",
    "                # near the blue line\n",
    "                if row['Next X Coordinate'] < 135:\n",
    "                    return 'Failed controlled exit'\n",
    "                else:\n",
    "                    return np.nan\n",
    "            else:\n",
    "                return np.nan\n",
    "        # puck is played within neutral zone\n",
    "        elif (\n",
    "            (row['X Coordinate'] > 75) & \n",
    "            (row['X Coordinate 2'] < 125)\n",
    "        ):\n",
    "            if row['Event'] == 'Play':\n",
    "                return 'Neutral zone pass'\n",
    "            if row['Event'] == 'Incomplete Play':\n",
    "                return 'Failed neutral zone pass'\n",
    "            else:\n",
    "                return np.nan\n",
    "        else:\n",
    "            return np.nan"
   ]
  },
  {
   "cell_type": "code",
   "execution_count": 5,
   "id": "5e424a47-19d3-4fa1-80cb-762707daf9da",
   "metadata": {},
   "outputs": [],
   "source": [
    "df['Next X Coordinate'] = df.shift(-1)['X Coordinate']\n",
    "df['Next Event'] = df.shift(-1)['Event']\n",
    "df['Entry'] = df.index.isin(entries.index - 1)"
   ]
  },
  {
   "cell_type": "code",
   "execution_count": 6,
   "id": "78e8a1b6-dfdc-4d55-932c-62d371469ad2",
   "metadata": {},
   "outputs": [],
   "source": [
    "df['Play of Interest'] = df.apply(lambda row: play_of_interest(row), axis=1)"
   ]
  },
  {
   "cell_type": "markdown",
   "id": "0a5fbb71-baa6-493d-93d4-743ebf81fefb",
   "metadata": {},
   "source": [
    "Acceptable false negatives compared to given DB for zone entries\n",
    "- End of period (last play is zone entry)\n",
    "- Defined as failed entry (puck taken away within 10 ft, offside, or icing)\n",
    "- Defined dump out\n",
    "\n",
    "\\*one entry in the original database cannot be inferred from given data and is omitted\n",
    "\n",
    "There are many dump ins which were not recorded as zone entries in the original database"
   ]
  },
  {
   "cell_type": "code",
   "execution_count": 7,
   "id": "e6c1d711-f884-4cd7-84cc-d64af509c059",
   "metadata": {},
   "outputs": [],
   "source": [
    "df['Play of Interest'].to_csv('data/BDC_2024_Plays_of_Interest.csv')"
   ]
  },
  {
   "cell_type": "code",
   "execution_count": 8,
   "id": "da920315-f68c-46c3-ba4a-ad7ed88438ec",
   "metadata": {},
   "outputs": [
    {
     "data": {
      "text/plain": [
       "Controlled exit             315\n",
       "Controlled entry            314\n",
       "Dump in                     248\n",
       "Dump out                    192\n",
       "Neutral zone pass           176\n",
       "Failed dump out              67\n",
       "Failed controlled entry      49\n",
       "Failed neutral zone pass     46\n",
       "Failed dump in               32\n",
       "Failed controlled exit       23\n",
       "Cycle back                    1\n",
       "Failed cycle back             1\n",
       "Dump back                     1\n",
       "Name: Play of Interest, dtype: int64"
      ]
     },
     "execution_count": 8,
     "metadata": {},
     "output_type": "execute_result"
    }
   ],
   "source": [
    "df['Play of Interest'].value_counts()"
   ]
  },
  {
   "cell_type": "code",
   "execution_count": 9,
   "id": "8e611c4a-06ba-47e1-a1b5-75d791d94459",
   "metadata": {},
   "outputs": [],
   "source": [
    "pk = df.loc[df['Team Status'] == 'PK'].copy()\n",
    "pp = df.loc[df['Team Status'] == 'PP'].copy()\n",
    "p = df.loc[(df['Team Status'] == 'PK') | (df['Team Status'] == 'PP')]"
   ]
  },
  {
   "cell_type": "code",
   "execution_count": 10,
   "id": "7960c413-09d6-4af5-a039-cc5de13afcce",
   "metadata": {},
   "outputs": [
    {
     "data": {
      "text/plain": [
       "Dump out                    79\n",
       "Failed dump out             28\n",
       "Controlled entry            13\n",
       "Dump in                      8\n",
       "Neutral zone pass            5\n",
       "Failed controlled entry      3\n",
       "Controlled exit              2\n",
       "Failed dump in               2\n",
       "Failed neutral zone pass     1\n",
       "Cycle back                   1\n",
       "Name: Play of Interest, dtype: int64"
      ]
     },
     "execution_count": 10,
     "metadata": {},
     "output_type": "execute_result"
    }
   ],
   "source": [
    "pk['Play of Interest'].value_counts()"
   ]
  },
  {
   "cell_type": "code",
   "execution_count": 11,
   "id": "580a5025-c194-4208-8d3d-4f84bbb9995c",
   "metadata": {},
   "outputs": [
    {
     "data": {
      "text/plain": [
       "Controlled entry            58\n",
       "Neutral zone pass           44\n",
       "Controlled exit             43\n",
       "Dump in                     22\n",
       "Failed controlled entry      6\n",
       "Failed neutral zone pass     5\n",
       "Failed controlled exit       3\n",
       "Dump out                     1\n",
       "Name: Play of Interest, dtype: int64"
      ]
     },
     "execution_count": 11,
     "metadata": {},
     "output_type": "execute_result"
    }
   ],
   "source": [
    "pp['Play of Interest'].value_counts()"
   ]
  },
  {
   "cell_type": "code",
   "execution_count": 12,
   "id": "c3b87d0e-6d6a-4202-bfd6-488a896183a1",
   "metadata": {},
   "outputs": [
    {
     "data": {
      "text/plain": [
       "Dump out                    80\n",
       "Controlled entry            71\n",
       "Neutral zone pass           49\n",
       "Controlled exit             45\n",
       "Dump in                     30\n",
       "Failed dump out             28\n",
       "Failed controlled entry      9\n",
       "Failed neutral zone pass     6\n",
       "Failed controlled exit       3\n",
       "Failed dump in               2\n",
       "Cycle back                   1\n",
       "Name: Play of Interest, dtype: int64"
      ]
     },
     "execution_count": 12,
     "metadata": {},
     "output_type": "execute_result"
    }
   ],
   "source": [
    "p['Play of Interest'].value_counts()"
   ]
  },
  {
   "cell_type": "code",
   "execution_count": null,
   "id": "0cbe1569-8b26-41a1-9fe0-096038975e94",
   "metadata": {},
   "outputs": [],
   "source": []
  }
 ],
 "metadata": {
  "kernelspec": {
   "display_name": "Python 3 (ipykernel)",
   "language": "python",
   "name": "python3"
  },
  "language_info": {
   "codemirror_mode": {
    "name": "ipython",
    "version": 3
   },
   "file_extension": ".py",
   "mimetype": "text/x-python",
   "name": "python",
   "nbconvert_exporter": "python",
   "pygments_lexer": "ipython3",
   "version": "3.9.9"
  }
 },
 "nbformat": 4,
 "nbformat_minor": 5
}
